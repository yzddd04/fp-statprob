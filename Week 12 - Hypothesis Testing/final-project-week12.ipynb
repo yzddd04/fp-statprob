{
 "cells": [
  {
   "cell_type": "markdown",
   "metadata": {},
   "source": [
    "# Import Data\n",
    "Dataset diambil dari:\n",
    "\n",
    "https://www.kaggle.com/datasets/uom190346a/e-commerce-customer-behavior-dataset"
   ]
  },
  {
   "cell_type": "markdown",
   "metadata": {},
   "source": []
  }
 ],
 "metadata": {
  "language_info": {
   "name": "python"
  }
 },
 "nbformat": 4,
 "nbformat_minor": 2
}
